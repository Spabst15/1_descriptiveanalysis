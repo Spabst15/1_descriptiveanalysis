{
 "cells": [
  {
   "cell_type": "code",
   "execution_count": 1,
   "metadata": {},
   "outputs": [],
   "source": [
    "import numpy as np\n",
    "import pandas as pd\n",
    "import scipy, scipy.stats\n",
    "import matplotlib.pyplot as plt\n",
    "from sklearn.cluster import KMeans\n",
    "from sklearn.mixture import GaussianMixture\n",
    "from sklearn.mixture import GMM\n",
    "import seaborn as sns\n",
    "from skimage import transform\n",
    "from sklearn.datasets import load_digits\n",
    "from scipy.stats import mode\n",
    "from sklearn.metrics import accuracy_score\n",
    "from sklearn.neighbors import KNeighborsClassifier\n",
    "from sklearn.metrics import confusion_matrix"
   ]
  },
  {
   "cell_type": "markdown",
   "metadata": {},
   "source": [
    "# KNN"
   ]
  },
  {
   "cell_type": "code",
   "execution_count": 2,
   "metadata": {},
   "outputs": [],
   "source": [
    "traindata = pd.read_csv(\"data/zip.train\", header=None, sep=\" \")\n",
    "datawithouttargets = traindata.iloc[:,1:-1] #Zeilen ohne Targets und letzte Spalte \n",
    "targetcolumntrain = traindata.iloc[:,0] #nur die Spalte mit den Targets\n",
    "testdata = pd.read_csv(\"data/zip.test\", header=None, sep=\" \") #Datensatz zum Testen der Vorhersage \n",
    "targetcolumntest = testdata.iloc[:,0]"
   ]
  },
  {
   "cell_type": "code",
   "execution_count": 3,
   "metadata": {},
   "outputs": [],
   "source": [
    "matrixfortraining = traindata.iloc[:,1:-1]\n",
    "matrixtoprooftraining = traindata.iloc[:,0:-1]"
   ]
  },
  {
   "cell_type": "code",
   "execution_count": 4,
   "metadata": {},
   "outputs": [],
   "source": [
    "matrixfortesting = testdata.iloc[:,1:]\n",
    "matrixtoprooftesting = testdata.iloc[:,0:]"
   ]
  },
  {
   "cell_type": "code",
   "execution_count": 5,
   "metadata": {},
   "outputs": [],
   "source": [
    "acc_train=[]\n",
    "acc_test=[]\n",
    "k=[]"
   ]
  },
  {
   "cell_type": "code",
   "execution_count": 6,
   "metadata": {},
   "outputs": [],
   "source": [
    "rangeinput=np.array([0,1,2,3,4,5,6,7,8,9])\n",
    "for i in range(1,20):\n",
    "    anzahl_neighbors = i  \n",
    "    k.append(i)\n",
    "    model = KNeighborsClassifier(n_neighbors=i,algorithm = 'brute').fit(matrixfortraining,targetcolumntrain)\n",
    "    trainlabels = model.predict(matrixfortraining)\n",
    "    testlabels = model.predict(matrixfortesting)\n",
    "    trainlabels_2 = np.zeros_like(trainlabels)\n",
    "    testlabels_2 = np.zeros_like(testlabels)\n",
    "    for j in range(0, len(rangeinput)):\n",
    "        mask = (trainlabels == rangeinput[j])\n",
    "        trainlabels_2[mask] = mode(targetcolumntrain[mask])[0]\n",
    "    acc_train.append(accuracy_score(targetcolumntrain, trainlabels_2))\n",
    "    for j in range(0, len(rangeinput)):\n",
    "        mask = (testlabels == rangeinput[j])\n",
    "        testlabels_2[mask] = mode(targetcolumntest[mask])[0]\n",
    "    acc_test.append(accuracy_score(targetcolumntest, testlabels_2))"
   ]
  },
  {
   "cell_type": "code",
   "execution_count": 7,
   "metadata": {},
   "outputs": [],
   "source": [
    "opt_k = pd.DataFrame()\n",
    "opt_k['k'] = k\n",
    "opt_k['Acc Trainingsdaten'] = acc_train\n",
    "opt_k['Acc Testdaten'] = acc_test"
   ]
  },
  {
   "cell_type": "code",
   "execution_count": 8,
   "metadata": {},
   "outputs": [
    {
     "data": {
      "text/html": [
       "<div>\n",
       "<style scoped>\n",
       "    .dataframe tbody tr th:only-of-type {\n",
       "        vertical-align: middle;\n",
       "    }\n",
       "\n",
       "    .dataframe tbody tr th {\n",
       "        vertical-align: top;\n",
       "    }\n",
       "\n",
       "    .dataframe thead th {\n",
       "        text-align: right;\n",
       "    }\n",
       "</style>\n",
       "<table border=\"1\" class=\"dataframe\">\n",
       "  <thead>\n",
       "    <tr style=\"text-align: right;\">\n",
       "      <th></th>\n",
       "      <th>k</th>\n",
       "      <th>Acc Trainingsdaten</th>\n",
       "      <th>Acc Testdaten</th>\n",
       "    </tr>\n",
       "  </thead>\n",
       "  <tbody>\n",
       "    <tr>\n",
       "      <th>0</th>\n",
       "      <td>1</td>\n",
       "      <td>1.000000</td>\n",
       "      <td>0.943697</td>\n",
       "    </tr>\n",
       "    <tr>\n",
       "      <th>1</th>\n",
       "      <td>2</td>\n",
       "      <td>0.983679</td>\n",
       "      <td>0.941206</td>\n",
       "    </tr>\n",
       "    <tr>\n",
       "      <th>2</th>\n",
       "      <td>3</td>\n",
       "      <td>0.986696</td>\n",
       "      <td>0.944694</td>\n",
       "    </tr>\n",
       "    <tr>\n",
       "      <th>3</th>\n",
       "      <td>4</td>\n",
       "      <td>0.980661</td>\n",
       "      <td>0.943199</td>\n",
       "    </tr>\n",
       "    <tr>\n",
       "      <th>4</th>\n",
       "      <td>5</td>\n",
       "      <td>0.979152</td>\n",
       "      <td>0.944694</td>\n",
       "    </tr>\n",
       "    <tr>\n",
       "      <th>5</th>\n",
       "      <td>6</td>\n",
       "      <td>0.975861</td>\n",
       "      <td>0.938714</td>\n",
       "    </tr>\n",
       "    <tr>\n",
       "      <th>6</th>\n",
       "      <td>7</td>\n",
       "      <td>0.974215</td>\n",
       "      <td>0.941704</td>\n",
       "    </tr>\n",
       "    <tr>\n",
       "      <th>7</th>\n",
       "      <td>8</td>\n",
       "      <td>0.972432</td>\n",
       "      <td>0.940708</td>\n",
       "    </tr>\n",
       "    <tr>\n",
       "      <th>8</th>\n",
       "      <td>9</td>\n",
       "      <td>0.970923</td>\n",
       "      <td>0.937220</td>\n",
       "    </tr>\n",
       "    <tr>\n",
       "      <th>9</th>\n",
       "      <td>10</td>\n",
       "      <td>0.969140</td>\n",
       "      <td>0.935725</td>\n",
       "    </tr>\n",
       "    <tr>\n",
       "      <th>10</th>\n",
       "      <td>11</td>\n",
       "      <td>0.969003</td>\n",
       "      <td>0.931241</td>\n",
       "    </tr>\n",
       "    <tr>\n",
       "      <th>11</th>\n",
       "      <td>12</td>\n",
       "      <td>0.967494</td>\n",
       "      <td>0.930742</td>\n",
       "    </tr>\n",
       "    <tr>\n",
       "      <th>12</th>\n",
       "      <td>13</td>\n",
       "      <td>0.966808</td>\n",
       "      <td>0.929746</td>\n",
       "    </tr>\n",
       "    <tr>\n",
       "      <th>13</th>\n",
       "      <td>14</td>\n",
       "      <td>0.965300</td>\n",
       "      <td>0.929248</td>\n",
       "    </tr>\n",
       "    <tr>\n",
       "      <th>14</th>\n",
       "      <td>15</td>\n",
       "      <td>0.962831</td>\n",
       "      <td>0.930244</td>\n",
       "    </tr>\n",
       "    <tr>\n",
       "      <th>15</th>\n",
       "      <td>16</td>\n",
       "      <td>0.959813</td>\n",
       "      <td>0.927255</td>\n",
       "    </tr>\n",
       "    <tr>\n",
       "      <th>16</th>\n",
       "      <td>17</td>\n",
       "      <td>0.957893</td>\n",
       "      <td>0.925760</td>\n",
       "    </tr>\n",
       "    <tr>\n",
       "      <th>17</th>\n",
       "      <td>18</td>\n",
       "      <td>0.956796</td>\n",
       "      <td>0.921774</td>\n",
       "    </tr>\n",
       "    <tr>\n",
       "      <th>18</th>\n",
       "      <td>19</td>\n",
       "      <td>0.954464</td>\n",
       "      <td>0.922770</td>\n",
       "    </tr>\n",
       "  </tbody>\n",
       "</table>\n",
       "</div>"
      ],
      "text/plain": [
       "     k  Acc Trainingsdaten  Acc Testdaten\n",
       "0    1            1.000000       0.943697\n",
       "1    2            0.983679       0.941206\n",
       "2    3            0.986696       0.944694\n",
       "3    4            0.980661       0.943199\n",
       "4    5            0.979152       0.944694\n",
       "5    6            0.975861       0.938714\n",
       "6    7            0.974215       0.941704\n",
       "7    8            0.972432       0.940708\n",
       "8    9            0.970923       0.937220\n",
       "9   10            0.969140       0.935725\n",
       "10  11            0.969003       0.931241\n",
       "11  12            0.967494       0.930742\n",
       "12  13            0.966808       0.929746\n",
       "13  14            0.965300       0.929248\n",
       "14  15            0.962831       0.930244\n",
       "15  16            0.959813       0.927255\n",
       "16  17            0.957893       0.925760\n",
       "17  18            0.956796       0.921774\n",
       "18  19            0.954464       0.922770"
      ]
     },
     "execution_count": 8,
     "metadata": {},
     "output_type": "execute_result"
    }
   ],
   "source": [
    "opt_k"
   ]
  },
  {
   "cell_type": "code",
   "execution_count": 9,
   "metadata": {},
   "outputs": [
    {
     "data": {
      "image/png": "[encoded data removed]",
      "text/plain": [
       "<Figure size 1440x576 with 1 Axes>"
      ]
     },
     "metadata": {},
     "output_type": "display_data"
    }
   ],
   "source": [
    "plt.figure(figsize=(20,8))\n",
    "plt.plot(k,acc_train)\n",
    "plt.plot(k,acc_test)\n",
    "plt.show()"
   ]
  },
  {
   "cell_type": "code",
   "execution_count": null,
   "metadata": {},
   "outputs": [],
   "source": []
  }
 ],
 "metadata": {
  "kernelspec": {
   "display_name": "Python 3",
   "language": "python",
   "name": "python3"
  },
  "language_info": {
   "codemirror_mode": {
    "name": "ipython",
    "version": 3
   },
   "file_extension": ".py",
   "mimetype": "text/x-python",
   "name": "python",
   "nbconvert_exporter": "python",
   "pygments_lexer": "ipython3",
   "version": "3.6.5"
  }
 },
 "nbformat": 4,
 "nbformat_minor": 2
}
