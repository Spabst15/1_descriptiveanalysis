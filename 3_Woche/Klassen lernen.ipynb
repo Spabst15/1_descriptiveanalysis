{
 "cells": [
  {
   "cell_type": "code",
   "execution_count": 4,
   "metadata": {},
   "outputs": [
    {
     "name": "stdout",
     "output_type": "stream",
     "text": [
      "6\n",
      "abc\n",
      "[3, 99, 9, 42]\n"
     ]
    }
   ],
   "source": [
    "x = [3,6,9]\n",
    "y = [45,\"abc\"]\n",
    "print(x[1])\n",
    "x[1] = 99\n",
    "x.append(42)\n",
    "last = y.pop()\n",
    "print(last)\n",
    "print(x)"
   ]
  },
  {
   "cell_type": "code",
   "execution_count": 3,
   "metadata": {},
   "outputs": [
    {
     "data": {
      "text/plain": [
       "45"
      ]
     },
     "execution_count": 3,
     "metadata": {},
     "output_type": "execute_result"
    }
   ],
   "source": [
    "y.pop()"
   ]
  },
  {
   "cell_type": "code",
   "execution_count": 10,
   "metadata": {},
   "outputs": [
    {
     "name": "stdout",
     "output_type": "stream",
     "text": [
      "Marvin\n",
      "1000\n",
      "red\n"
     ]
    },
    {
     "data": {
      "text/plain": [
       "42"
      ]
     },
     "execution_count": 10,
     "metadata": {},
     "output_type": "execute_result"
    }
   ],
   "source": [
    "class Roboter:\n",
    "    pass\n",
    "\n",
    "x = Roboter()\n",
    "y = Roboter()\n",
    "x.name = \"Marvin\"\n",
    "x.baujahr = 1979\n",
    "y.name = \"Caliban\"\n",
    "y.baujahr = 1993\n",
    "print(x.name)\n",
    "Roboter.number = 1000\n",
    "print(Roboter.number)\n",
    "def f(x):\n",
    "    return 42\n",
    "f.color = \"red\"  # was immer es bedeuten soll, einer Funktion ein Farbattribut zuzuordnen :-)\n",
    "print(f.color)\n",
    "f(10)"
   ]
  },
  {
   "cell_type": "code",
   "execution_count": null,
   "metadata": {},
   "outputs": [],
   "source": []
  }
 ],
 "metadata": {
  "kernelspec": {
   "display_name": "Python 3",
   "language": "python",
   "name": "python3"
  },
  "language_info": {
   "codemirror_mode": {
    "name": "ipython",
    "version": 3
   },
   "file_extension": ".py",
   "mimetype": "text/x-python",
   "name": "python",
   "nbconvert_exporter": "python",
   "pygments_lexer": "ipython3",
   "version": "3.6.5"
  }
 },
 "nbformat": 4,
 "nbformat_minor": 2
}
