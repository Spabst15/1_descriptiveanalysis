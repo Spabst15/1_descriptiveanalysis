{
 "cells": [
  {
   "cell_type": "markdown",
   "metadata": {},
   "source": [
    "# Aufgabe\n",
    "- Definiere eine Klasse\n",
    "\n",
    "- Lege Klassenfunktionen an die sich im Kontext der Klasse Sinn ergeben\n",
    "\n",
    "- Lege verschiedene Objekte dieser Klasse an und modifiziere die Objekte mittels der implementierten FunktionenBeispiele für Klassen könnten\n",
    "\n",
    "- Auto\n",
    "\n",
    "- Stadt\n",
    "\n",
    "- DER SITZPLAN\n",
    "\n",
    "- oder irgendwas was euch einfällt\n",
    "\n",
    "sein!"
   ]
  },
  {
   "cell_type": "code",
   "execution_count": 1,
   "metadata": {},
   "outputs": [],
   "source": [
    "class Konto: \n",
    "    count_Kunden = 0\n",
    "    sum_Kontostand = 0\n",
    "    letzte_kontonummer = 0\n",
    "\n",
    "    def __init__(self, name, kontostand, bank, kreditrahmen=0): \n",
    "        self.Name = name \n",
    "        self.kontostand = kontostand \n",
    "        self.kreditrahmen = kreditrahmen\n",
    "        self.kontonummer = Konto.letzte_kontonummer  + 1\n",
    "        Konto.letzte_kontonummer = self.kontonummer\n",
    "        Konto.count_Kunden += 1\n",
    "        Konto.sum_Kontostand += kontostand\n",
    "        self.bank = bank\n",
    "        bank.add_konto (self)\n",
    "\n",
    "    def Ueberweisung(self, zielkontonummer, betrag):\n",
    "        if(self.kontostand - betrag < self.kreditrahmen):\n",
    "            # Kreditrahmen überzogen\n",
    "            return False  \n",
    "        else: \n",
    "            self.kontostand -= betrag \n",
    "            zielkonto = self.bank.get_konto(zielkontonummer)\n",
    "            zielkonto.kontostand += betrag\n",
    "            return True\n",
    " \n",
    "    def Einzahlung(self, betrag): \n",
    "        self.kontostand += betrag \n",
    "        Konto.sum_Kontostand += betrag\n",
    " \n",
    "    def Auszahlung(self, betrag): \n",
    "        self.kontostand -= betrag \n",
    "        Konto.sum_Kontostand -= betrag\n",
    " \n",
    "    def Kontostandanzeigen(self): \n",
    "        return self.kontostand"
   ]
  },
  {
   "cell_type": "code",
   "execution_count": 2,
   "metadata": {},
   "outputs": [],
   "source": [
    "class Bank:\n",
    "    def __init__(self):\n",
    "        self.konten = {}\n",
    "        self.num_konten = 0\n",
    "    \n",
    "    def add_konto(self, Konto):\n",
    "        self.konten[Konto.kontonummer] = Konto\n",
    "        \n",
    "    def get_konto(self, kontonummer):\n",
    "        return self.konten[kontonummer]\n",
    "        \n",
    "    \n",
    "    \n"
   ]
  },
  {
   "cell_type": "code",
   "execution_count": 3,
   "metadata": {},
   "outputs": [],
   "source": [
    "dieBank = Bank()"
   ]
  },
  {
   "cell_type": "code",
   "execution_count": 4,
   "metadata": {},
   "outputs": [],
   "source": [
    "KundeX= Konto (name=\"Sophie\", kontostand=100, bank=dieBank)"
   ]
  },
  {
   "cell_type": "code",
   "execution_count": 5,
   "metadata": {},
   "outputs": [],
   "source": [
    "KundeY = Konto(\"Marie\", 100, dieBank)"
   ]
  },
  {
   "cell_type": "code",
   "execution_count": 6,
   "metadata": {},
   "outputs": [],
   "source": [
    "KundeZ = Konto(\"Lena\", 100, dieBank)"
   ]
  },
  {
   "cell_type": "code",
   "execution_count": 7,
   "metadata": {},
   "outputs": [],
   "source": [
    "KundeA = Konto(\"Sarah\",100, dieBank)"
   ]
  },
  {
   "cell_type": "code",
   "execution_count": 8,
   "metadata": {},
   "outputs": [
    {
     "data": {
      "text/plain": [
       "4"
      ]
     },
     "execution_count": 8,
     "metadata": {},
     "output_type": "execute_result"
    }
   ],
   "source": [
    "Konto.count_Kunden"
   ]
  },
  {
   "cell_type": "code",
   "execution_count": 9,
   "metadata": {},
   "outputs": [
    {
     "data": {
      "text/plain": [
       "100"
      ]
     },
     "execution_count": 9,
     "metadata": {},
     "output_type": "execute_result"
    }
   ],
   "source": [
    "KundeX.Kontostandanzeigen()"
   ]
  },
  {
   "cell_type": "code",
   "execution_count": 10,
   "metadata": {},
   "outputs": [
    {
     "data": {
      "text/plain": [
       "100"
      ]
     },
     "execution_count": 10,
     "metadata": {},
     "output_type": "execute_result"
    }
   ],
   "source": [
    "KundeY.Kontostandanzeigen()"
   ]
  },
  {
   "cell_type": "code",
   "execution_count": 11,
   "metadata": {},
   "outputs": [
    {
     "data": {
      "text/plain": [
       "True"
      ]
     },
     "execution_count": 11,
     "metadata": {},
     "output_type": "execute_result"
    }
   ],
   "source": [
    "KundeX.Ueberweisung (2,50)"
   ]
  },
  {
   "cell_type": "code",
   "execution_count": 12,
   "metadata": {},
   "outputs": [
    {
     "data": {
      "text/plain": [
       "150"
      ]
     },
     "execution_count": 12,
     "metadata": {},
     "output_type": "execute_result"
    }
   ],
   "source": [
    "KundeY.Kontostandanzeigen()"
   ]
  },
  {
   "cell_type": "code",
   "execution_count": 13,
   "metadata": {},
   "outputs": [
    {
     "data": {
      "text/plain": [
       "50"
      ]
     },
     "execution_count": 13,
     "metadata": {},
     "output_type": "execute_result"
    }
   ],
   "source": [
    "KundeX.Kontostandanzeigen()"
   ]
  },
  {
   "cell_type": "code",
   "execution_count": 14,
   "metadata": {},
   "outputs": [
    {
     "data": {
      "text/plain": [
       "{1: <__main__.Konto at 0x5206320>,\n",
       " 2: <__main__.Konto at 0x5206358>,\n",
       " 3: <__main__.Konto at 0x52061d0>,\n",
       " 4: <__main__.Konto at 0x52064a8>}"
      ]
     },
     "execution_count": 14,
     "metadata": {},
     "output_type": "execute_result"
    }
   ],
   "source": [
    "dieBank.konten"
   ]
  },
  {
   "cell_type": "code",
   "execution_count": 15,
   "metadata": {},
   "outputs": [
    {
     "data": {
      "text/plain": [
       "400"
      ]
     },
     "execution_count": 15,
     "metadata": {},
     "output_type": "execute_result"
    }
   ],
   "source": [
    "Konto.sum_Kontostand"
   ]
  },
  {
   "cell_type": "code",
   "execution_count": 16,
   "metadata": {},
   "outputs": [],
   "source": [
    "KundeX.Einzahlung(100)"
   ]
  },
  {
   "cell_type": "code",
   "execution_count": 17,
   "metadata": {},
   "outputs": [
    {
     "data": {
      "text/plain": [
       "500"
      ]
     },
     "execution_count": 17,
     "metadata": {},
     "output_type": "execute_result"
    }
   ],
   "source": [
    "Konto.sum_Kontostand"
   ]
  },
  {
   "cell_type": "code",
   "execution_count": 18,
   "metadata": {},
   "outputs": [
    {
     "data": {
      "text/plain": [
       "True"
      ]
     },
     "execution_count": 18,
     "metadata": {},
     "output_type": "execute_result"
    }
   ],
   "source": [
    "KundeZ.Ueberweisung (1,50)"
   ]
  },
  {
   "cell_type": "code",
   "execution_count": 19,
   "metadata": {},
   "outputs": [],
   "source": [
    "KundeY.Auszahlung(25)"
   ]
  },
  {
   "cell_type": "code",
   "execution_count": 20,
   "metadata": {},
   "outputs": [
    {
     "data": {
      "text/plain": [
       "475"
      ]
     },
     "execution_count": 20,
     "metadata": {},
     "output_type": "execute_result"
    }
   ],
   "source": [
    "Konto.sum_Kontostand"
   ]
  },
  {
   "cell_type": "code",
   "execution_count": 21,
   "metadata": {},
   "outputs": [],
   "source": [
    "KundeB = Konto(\"Tim\",300, dieBank)"
   ]
  },
  {
   "cell_type": "code",
   "execution_count": 22,
   "metadata": {},
   "outputs": [
    {
     "data": {
      "text/plain": [
       "775"
      ]
     },
     "execution_count": 22,
     "metadata": {},
     "output_type": "execute_result"
    }
   ],
   "source": [
    "Konto.sum_Kontostand"
   ]
  },
  {
   "cell_type": "code",
   "execution_count": 23,
   "metadata": {},
   "outputs": [
    {
     "data": {
      "text/plain": [
       "{1: <__main__.Konto at 0x5206320>,\n",
       " 2: <__main__.Konto at 0x5206358>,\n",
       " 3: <__main__.Konto at 0x52061d0>,\n",
       " 4: <__main__.Konto at 0x52064a8>,\n",
       " 5: <__main__.Konto at 0x5206908>}"
      ]
     },
     "execution_count": 23,
     "metadata": {},
     "output_type": "execute_result"
    }
   ],
   "source": [
    "dieBank.konten"
   ]
  },
  {
   "cell_type": "code",
   "execution_count": null,
   "metadata": {},
   "outputs": [],
   "source": []
  }
 ],
 "metadata": {
  "kernelspec": {
   "display_name": "Python 3",
   "language": "python",
   "name": "python3"
  },
  "language_info": {
   "codemirror_mode": {
    "name": "ipython",
    "version": 3
   },
   "file_extension": ".py",
   "mimetype": "text/x-python",
   "name": "python",
   "nbconvert_exporter": "python",
   "pygments_lexer": "ipython3",
   "version": "3.6.5"
  }
 },
 "nbformat": 4,
 "nbformat_minor": 2
}
