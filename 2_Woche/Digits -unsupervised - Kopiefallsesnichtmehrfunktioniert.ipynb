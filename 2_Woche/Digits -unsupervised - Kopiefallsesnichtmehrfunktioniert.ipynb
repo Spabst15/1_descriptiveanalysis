{
 "cells": [
  {
   "cell_type": "code",
   "execution_count": 1,
   "metadata": {},
   "outputs": [],
   "source": [
    "import numpy as np\n",
    "import pandas as pd\n",
    "import scipy, scipy.stats\n",
    "import matplotlib.pyplot as plt\n",
    "from sklearn.cluster import KMeans\n",
    "from sklearn.mixture import GaussianMixture\n",
    "from sklearn.mixture import GMM\n",
    "import seaborn as sns\n",
    "from skimage import transform\n",
    "from sklearn.datasets import load_digits\n",
    "from scipy.stats import mode\n",
    "from sklearn.metrics import accuracy_score\n",
    "from sklearn.neighbors import KNeighborsClassifier"
   ]
  },
  {
   "cell_type": "markdown",
   "metadata": {},
   "source": [
    "# Einlesen und Vorbereitung der Daten"
   ]
  },
  {
   "cell_type": "code",
   "execution_count": null,
   "metadata": {},
   "outputs": [],
   "source": [
    "data = pd.read_csv(\"data/zip.train\", header=None, sep=\" \")"
   ]
  },
  {
   "cell_type": "code",
   "execution_count": null,
   "metadata": {},
   "outputs": [],
   "source": [
    "data2 = pd.read_csv(\"data/zip.train\", header=None, sep=\" \")"
   ]
  },
  {
   "cell_type": "code",
   "execution_count": null,
   "metadata": {},
   "outputs": [],
   "source": [
    "data.head()"
   ]
  },
  {
   "cell_type": "code",
   "execution_count": null,
   "metadata": {},
   "outputs": [],
   "source": [
    "calc = data.iloc[:,1:-1]"
   ]
  },
  {
   "cell_type": "code",
   "execution_count": null,
   "metadata": {},
   "outputs": [],
   "source": [
    "calc.head()"
   ]
  },
  {
   "cell_type": "markdown",
   "metadata": {},
   "source": [
    "# Gaussian"
   ]
  },
  {
   "cell_type": "code",
   "execution_count": null,
   "metadata": {},
   "outputs": [],
   "source": [
    "clusters = 10 # Angabe der Cluster\n",
    "digit = 10 #Angabe der Zahlen"
   ]
  },
  {
   "cell_type": "code",
   "execution_count": null,
   "metadata": {},
   "outputs": [],
   "source": [
    "G = GaussianMixture(n_components=clusters,covariance_type='full').fit(calc)\n",
    "data['cluster_idx'] = G.predict(calc)"
   ]
  },
  {
   "cell_type": "code",
   "execution_count": null,
   "metadata": {
    "scrolled": true
   },
   "outputs": [],
   "source": [
    "data"
   ]
  },
  {
   "cell_type": "code",
   "execution_count": null,
   "metadata": {},
   "outputs": [],
   "source": [
    "data['label'] = [[\"A\",\"B\",\"C\",\"D\",\"E\",\"F\",\"G\",\"H\",\"I\",\"J\"][nr] for nr in data['cluster_idx']]"
   ]
  },
  {
   "cell_type": "code",
   "execution_count": null,
   "metadata": {},
   "outputs": [],
   "source": [
    "##1.Visualisierung "
   ]
  },
  {
   "cell_type": "code",
   "execution_count": null,
   "metadata": {},
   "outputs": [],
   "source": [
    "### data[data[0] == 0].groupby(\"label\").count()[0].keys()"
   ]
  },
  {
   "cell_type": "code",
   "execution_count": null,
   "metadata": {},
   "outputs": [],
   "source": [
    "bar_data0 = np.zeros((10,10))  \n",
    "bar_data = pd.DataFrame(bar_data0, columns=[\"A\",\"B\",\"C\",\"D\",\"E\",\"F\",\"G\",\"H\",\"I\",\"J\"])\n",
    "for digit in range(0,10):\n",
    "    temp_result = data[data[0] == digit].groupby(\"label\").count()[0]\n",
    "    clusters_keys = temp_result.keys()\n",
    "    for label in clusters_keys:\n",
    "        bar_data.loc[digit,label] = temp_result[label]"
   ]
  },
  {
   "cell_type": "code",
   "execution_count": null,
   "metadata": {},
   "outputs": [],
   "source": [
    "bar_data"
   ]
  },
  {
   "cell_type": "code",
   "execution_count": null,
   "metadata": {},
   "outputs": [],
   "source": [
    "bar_data_scaled = bar_data.divide(bar_data.sum(1), axis=0)"
   ]
  },
  {
   "cell_type": "code",
   "execution_count": null,
   "metadata": {},
   "outputs": [],
   "source": [
    "bar_data_scaled.head()"
   ]
  },
  {
   "cell_type": "code",
   "execution_count": null,
   "metadata": {},
   "outputs": [],
   "source": [
    "bar_data_scaled.plot.bar(figsize=(20,8))"
   ]
  },
  {
   "cell_type": "code",
   "execution_count": null,
   "metadata": {},
   "outputs": [],
   "source": [
    "result_df2=bar_data.T.divide(bar_data.T.sum(1), axis=0)"
   ]
  },
  {
   "cell_type": "code",
   "execution_count": null,
   "metadata": {},
   "outputs": [],
   "source": [
    "result_df2.plot.bar(figsize=(20,8))"
   ]
  },
  {
   "cell_type": "code",
   "execution_count": null,
   "metadata": {},
   "outputs": [],
   "source": [
    "##2.Visualisierung "
   ]
  },
  {
   "cell_type": "code",
   "execution_count": null,
   "metadata": {},
   "outputs": [],
   "source": [
    "def getNumber(data, clusters):\n",
    "    data_number = pd.DataFrame(data[data['cluster_idx'] == clusters]) \n",
    "    cluster_data = data_number.iloc[:,1:-3]\n",
    "    return cluster_data\n",
    "\n",
    "def getNumberImage(data, clusters, aggregation):\n",
    "    # ruft die Hilfsfunktion getNumber auf um alle Bilddaten Daten zu einer Ziffer zu holen\n",
    "    image_data = getNumber(data, clusters)\n",
    "    # bilde aus allen Bildern zu der einen Ziffer ein aggrigiertes Bild\n",
    "    if(aggregation == 'median'):\n",
    "        df1 = pd.DataFrame(image_data.median())\n",
    "    else:\n",
    "        df1 = pd.DataFrame(image_data.mean())        \n",
    "    # wandle das format von (1,256) -> (16,16) und gebe diesen transformierten DataFrame zurück\n",
    "    return df1.values.reshape(16,16)\n",
    "\n",
    "plt.figure(1, figsize=(20, 10))\n",
    "for i in range(0,clusters):\n",
    "    image = getNumberImage(data,i,'median')\n",
    "    # Call signature: subplot(nrows, ncols, index, **kwargs)\n",
    "    plt.subplot(3,5, 1 + i)\n",
    "    plt.imshow(image, cmap='hot', interpolation='none', vmin=-1,vmax=1)\n",
    "    plt.colorbar (fraction=0.046, pad=0.04)\n",
    "plt.show()"
   ]
  },
  {
   "cell_type": "markdown",
   "metadata": {},
   "source": [
    "# K-means"
   ]
  },
  {
   "cell_type": "code",
   "execution_count": null,
   "metadata": {},
   "outputs": [],
   "source": [
    "clusters2 = 10 # Angabe der Cluster\n",
    "digit2 = 10 #Angabe der Zahlen dig"
   ]
  },
  {
   "cell_type": "code",
   "execution_count": null,
   "metadata": {},
   "outputs": [],
   "source": [
    "K = KMeans(n_clusters=clusters2).fit(calc)\n",
    "data2[\"cluster_idx\"]=K.predict(calc)"
   ]
  },
  {
   "cell_type": "code",
   "execution_count": null,
   "metadata": {},
   "outputs": [],
   "source": [
    "def getNumber2(data2, clusters2):\n",
    "    data_number = pd.DataFrame(data2[data2['cluster_idx'] == clusters2]) \n",
    "    cluster_data = data_number.iloc[:,1:-2]\n",
    "    return cluster_data"
   ]
  },
  {
   "cell_type": "code",
   "execution_count": null,
   "metadata": {},
   "outputs": [],
   "source": [
    "def getNumberImage2(data2, clusters2, aggregation):\n",
    "    # ruft die Hilfsfunktion getNumber auf um alle Bilddaten Daten zu einer Ziffer zu holen\n",
    "    image_data = getNumber2(data2, clusters2)\n",
    "    # bilde aus allen Bildern zu der einen Ziffer ein aggregiertes Bild\n",
    "    if(aggregation == 'median'):\n",
    "        df1 = pd.DataFrame(image_data.median())\n",
    "    else:\n",
    "        df1 = pd.DataFrame(image_data.mean())        \n",
    "    \n",
    "    # wandle das format von (1,256) -> (16,16) und gebe diesen transformierten DataFrame zurück\n",
    "    return df1.values.reshape(16,16)"
   ]
  },
  {
   "cell_type": "code",
   "execution_count": null,
   "metadata": {},
   "outputs": [],
   "source": [
    "plt.figure(1, figsize=(20, 10))\n",
    "\n",
    "for i in range(0,clusters2):\n",
    "    image = getNumberImage2(data2,i,'median')\n",
    "    # Call signature: subplot(nrows, ncols, index, **kwargs)\n",
    "    plt.subplot(3,5, 1 + i)\n",
    "    plt.imshow(image, cmap='hot', interpolation='none', vmin=-1,vmax=1)\n",
    "    plt.colorbar (fraction=0.046, pad=0.04)\n",
    "plt.suptitle('K-means',fontsize=30,y=1.1)\n",
    "plt.tight_layout(1)\n",
    "plt.show()"
   ]
  },
  {
   "cell_type": "code",
   "execution_count": null,
   "metadata": {},
   "outputs": [],
   "source": [
    "data2[data2[0] == 0].groupby(\"cluster_idx\").count()[0].keys()"
   ]
  },
  {
   "cell_type": "code",
   "execution_count": null,
   "metadata": {},
   "outputs": [],
   "source": [
    "bar_data2 = np.zeros((digit2,clusters2))  \n",
    "for digit2 in range(0,digit2):\n",
    "    temp_result2 = data2[data2[0] == digit2].groupby(\"cluster_idx\").count()[0]\n",
    "    clusters_keys = temp_result2.keys()\n",
    "    for cluster_idx in clusters_keys:\n",
    "        bar_data2[digit2][cluster_idx] = temp_result2[cluster_idx]"
   ]
  },
  {
   "cell_type": "code",
   "execution_count": null,
   "metadata": {},
   "outputs": [],
   "source": [
    "result_df3 = pd.DataFrame(bar_data2, columns=['a', 'b', 'c', 'd', 'e', 'f', 'g', 'h', 'i', 'j'])\n",
    "result_df3"
   ]
  },
  {
   "cell_type": "code",
   "execution_count": null,
   "metadata": {},
   "outputs": [],
   "source": [
    "result_df3_scaled = result_df2.divide(result_df2.sum(1), axis=0)\n",
    "result_df3_scaled.plot.bar(figsize=(20,8))"
   ]
  },
  {
   "cell_type": "code",
   "execution_count": null,
   "metadata": {
    "scrolled": true
   },
   "outputs": [],
   "source": [
    "result_df4=result_df3.T.divide(result_df3.T.sum(1), axis=0)\n",
    "result_df4.plot.bar(figsize=(20,8))"
   ]
  },
  {
   "cell_type": "markdown",
   "metadata": {},
   "source": [
    "# Daten einlesen und vorbereiten"
   ]
  },
  {
   "cell_type": "code",
   "execution_count": 2,
   "metadata": {},
   "outputs": [],
   "source": [
    "data3 = pd.read_csv(\"data/zip.train\", header=None, sep=\" \")\n",
    "datawithouttargets = data3.iloc[:,1:-1] #Zeilen ohne Targets und letzte Spalte \n",
    "targetcolumn = data3.iloc[:,0] #nur die Spalte mit den Targets\n",
    "testdata = pd.read_csv(\"data/zip.test\", header=None, sep=\" \") #Datensatz zum Testen der Vorhersage "
   ]
  },
  {
   "cell_type": "markdown",
   "metadata": {},
   "source": [
    "## Ergänzen von Daten um die Nachbarschaft zu berücksichtigen "
   ]
  },
  {
   "cell_type": "markdown",
   "metadata": {},
   "source": [
    "link: http://scikit-image.org/docs/dev/api/skimage.transform.html#skimage.transform.rescale\n",
    "--> downscale_local_mean\n",
    "a = np.arange(15).reshape(3, 5)\n",
    "a\n",
    "array([[ 0,  1,  2,  3,  4],\n",
    "       [ 5,  6,  7,  8,  9],\n",
    "       [10, 11, 12, 13, 14]])\n",
    "downscale_local_mean(a, (2, 3))\n",
    "array([[ 3.5,  4. ],\n",
    "       [ 5.5,  4.5]])"
   ]
  },
  {
   "cell_type": "code",
   "execution_count": 3,
   "metadata": {},
   "outputs": [],
   "source": [
    "#hier wird die neue Matrix der Durchschnitts-Pixel(256 in hier 64 Pixel) berechnet \n",
    "def creatematrixfornewpixel(data,size):\n",
    "    newmatrix = []\n",
    "    for i in range(0,len(data)):\n",
    "        calc3 = np.array(data.loc[i,:]).reshape(16,16)\n",
    "        calc4 = transform.downscale_local_mean(calc3, (size, size)) ##2,2 bedeutet die neue Größe eines Pixels\n",
    "        calc5 = calc4.flatten()\n",
    "        newmatrix.append(calc5)\n",
    "    return newmatrix"
   ]
  },
  {
   "cell_type": "markdown",
   "metadata": {},
   "source": [
    "### Matrix mit alten+neuen Parametern "
   ]
  },
  {
   "cell_type": "code",
   "execution_count": 4,
   "metadata": {},
   "outputs": [],
   "source": [
    "#für das Clustering: \n",
    "size = 2\n",
    "matrixforclusteringnewpixel = pd.DataFrame(np.concatenate([datawithouttargets.values, creatematrixfornewpixel(datawithouttargets,size)], axis=1)) \n",
    "#zur Speicherung der Ergebnisse vom Clustering:\n",
    "matrixtoproofnewpixel = pd.DataFrame(np.concatenate([pd.DataFrame(targetcolumn), matrixforclusteringnewpixel], axis=1))"
   ]
  },
  {
   "cell_type": "markdown",
   "metadata": {},
   "source": [
    "### Matrix nur mit den neuen Paramtern "
   ]
  },
  {
   "cell_type": "code",
   "execution_count": 5,
   "metadata": {},
   "outputs": [],
   "source": [
    "#für das Clustering: \n",
    "matrixforclusteringnewpixelonly = pd.DataFrame(creatematrixfornewpixel(datawithouttargets,size)) #diese Matrix ist für das Clustering\n",
    "#zur Speicherung der Ergebnisse vom Clustering:\n",
    "matrixtoproofnewpixelonly = pd.DataFrame(np.concatenate([pd.DataFrame(targetcolumn), matrixforclusteringnewpixelonly], axis=1)) "
   ]
  },
  {
   "cell_type": "markdown",
   "metadata": {},
   "source": [
    "## Glättung der Grau-Werte"
   ]
  },
  {
   "cell_type": "code",
   "execution_count": 6,
   "metadata": {},
   "outputs": [],
   "source": [
    "#für das Clustering: \n",
    "matrixforclusteringadjustedgreyscale = (datawithouttargets*4).round()/4"
   ]
  },
  {
   "cell_type": "code",
   "execution_count": 7,
   "metadata": {},
   "outputs": [],
   "source": [
    "#zur Speicherung der Ergebnisse vom Clustering:\n",
    "matrixtoproofadjustedgreyscale = pd.DataFrame(np.concatenate([pd.DataFrame(targetcolumn), matrixforclusteringadjustedgreyscale], axis=1))"
   ]
  },
  {
   "cell_type": "markdown",
   "metadata": {},
   "source": [
    "## Funktionen für das Clustering"
   ]
  },
  {
   "cell_type": "markdown",
   "metadata": {},
   "source": [
    ">>> X = [[0], [1], [2], [3]]\n",
    ">>> y = [0, 0, 1, 1]\n",
    ">>> from sklearn.neighbors import KNeighborsClassifier\n",
    ">>> neigh = KNeighborsClassifier(n_neighbors=3)\n",
    ">>> neigh.fit(X, y) \n",
    "KNeighborsClassifier(...)\n",
    ">>> print(neigh.predict([[1.1]]))\n",
    "[0]\n",
    ">>> print(neigh.predict_proba([[0.9]]))\n",
    "[[ 0.66666667  0.33333333]]"
   ]
  },
  {
   "cell_type": "code",
   "execution_count": 8,
   "metadata": {},
   "outputs": [],
   "source": [
    "numberclusters = 10 # Angabe der Cluster\n",
    "numberdigits = 10 #Angabe der Zahlen dig\n",
    "neighbors = 15 #Angabe der Nachbarn für KNN"
   ]
  },
  {
   "cell_type": "code",
   "execution_count": 9,
   "metadata": {},
   "outputs": [],
   "source": [
    "def firststepclustering (clusteringdata,numberclusters,method):\n",
    "    if method == \"Kmeans\":\n",
    "        result = KMeans(n_clusters=numberclusters,random_state=1).fit(clusteringdata)\n",
    "    elif method == \"Gaussian\":\n",
    "        result = GaussianMixture(n_components=numberclusters,covariance_type='full',n_init=5,random_state=1).fit(clusteringdata)\n",
    "    elif method == \"KNN\":\n",
    "        result = \n",
    "    return result"
   ]
  },
  {
   "cell_type": "code",
   "execution_count": 10,
   "metadata": {},
   "outputs": [],
   "source": [
    "def clustering (clusteringdata,numberclusters,method,proofdata):\n",
    "    if method == \"Kmeans\":\n",
    "        K = firststepclustering (clusteringdata,numberclusters,method)\n",
    "        proofdata['Kcluster']=K.predict(clusteringdata)\n",
    "        proofdata['Klabel'] = [[\"A\",\"B\",\"C\",\"D\",\"E\",\"F\",\"G\",\"H\",\"I\",\"J\"][nr] for nr in proofdata['Kcluster']]\n",
    "    elif method == \"Gaussian\":\n",
    "        G = firststepclustering (clusteringdata,numberclusters,method).fit(clusteringdata)\n",
    "        proofdata['Gcluster'] = G.predict(clusteringdata)\n",
    "        proofdata['Glabel'] = [[\"A\",\"B\",\"C\",\"D\",\"E\",\"F\",\"G\",\"H\",\"I\",\"J\"][nr] for nr in proofdata['Gcluster']]\n",
    "    elif method == \"KNN\":\n",
    "        KNN = firststepclustering (clusteringdata,numberclusters,method)\n",
    "        \n",
    "    else: print(\"please enter a valid method (Gaussian,Kmeans,KNN)\")\n",
    "    return proofdata"
   ]
  },
  {
   "cell_type": "code",
   "execution_count": 11,
   "metadata": {},
   "outputs": [],
   "source": [
    "#Hier werden die beiden Clustering-Verfahren durchgeführt:\n",
    "def getresultmatrixclustering (clusteringdata,method,proofdata):\n",
    "    if method == \"Kmeans\":\n",
    "        resultmatrixclustering = clustering(clusteringdata,numberclusters,\"Kmeans\",proofdata)\n",
    "    elif method == \"Gaussian\":    \n",
    "        resultmatrixclustering = clustering(clusteringdata,numberclusters,\"Gaussian\",proofdata)\n",
    "    return resultmatrixclustering"
   ]
  },
  {
   "cell_type": "markdown",
   "metadata": {},
   "source": [
    "## Funktionen für die Visualisierungen "
   ]
  },
  {
   "cell_type": "code",
   "execution_count": 12,
   "metadata": {},
   "outputs": [],
   "source": [
    "def createtable (method,clusteringdata,proofdata):\n",
    "    preptableforbarchart = np.zeros((numberdigits,numberclusters))\n",
    "    tableforbarchart = pd.DataFrame(preptableforbarchart, columns=[\"A\",\"B\",\"C\",\"D\",\"E\",\"F\",\"G\",\"H\",\"I\",\"J\"])\n",
    "    resultmatrixclustering = getresultmatrixclustering (clusteringdata,method,proofdata)\n",
    "    if method == \"Kmeans\":\n",
    "        for number in range(0,numberdigits):\n",
    "            temp_result = resultmatrixclustering[resultmatrixclustering[0] == number].groupby('Klabel').count()[0]\n",
    "            clusters_keys = temp_result.keys()\n",
    "            for singleKlabel in clusters_keys:\n",
    "                 tableforbarchart.loc[number,singleKlabel] = temp_result[singleKlabel]\n",
    "    elif method == \"Gaussian\":\n",
    "        for number in range(0,numberdigits):\n",
    "            temp_result = resultmatrixclustering[resultmatrixclustering[0] == number].groupby('Glabel').count()[0]\n",
    "            clusters_keys = temp_result.keys()\n",
    "            for singleGlabel in clusters_keys:\n",
    "                tableforbarchart.loc[number][singleGlabel] = temp_result[singleGlabel]\n",
    "    else: print(\"please enter a valid method (Gaussian,Kmeans)\")\n",
    "    return tableforbarchart"
   ]
  },
  {
   "cell_type": "code",
   "execution_count": 13,
   "metadata": {},
   "outputs": [],
   "source": [
    "def plottables (method,clusteringdata,proofdata):\n",
    "    if method == \"Kmeans\":\n",
    "        tableK = createtable(\"Kmeans\",clusteringdata,proofdata)\n",
    "        tableforbarchart_scaled = tableK.divide(tableK.sum(1), axis=0)\n",
    "        tableforbarchart_transposed_scaled = tableK.T.divide(tableK.T.sum(1), axis=0)\n",
    "        tabledigits= tableforbarchart_scaled.plot.bar(figsize=(20, 8))\n",
    "        tablelabels= tableforbarchart_transposed_scaled.plot.bar(figsize=(20, 8))\n",
    "    elif method == \"Gaussian\":\n",
    "        tableG = createtable(\"Gaussian\",clusteringdata,proofdata)\n",
    "        tableforbarchart_scaled = tableG.divide(tableG.sum(1), axis=0)\n",
    "        tableforbarchart_transposed_scaled = tableG.T.divide(tableG.T.sum(1), axis=0)\n",
    "        tabledigits= tableforbarchart_scaled.plot.bar(figsize=(20, 8))\n",
    "        tablelabels= tableforbarchart_transposed_scaled.plot.bar(figsize=(20, 8))   \n",
    "    return tabledigits, tablelabels"
   ]
  },
  {
   "cell_type": "code",
   "execution_count": 14,
   "metadata": {},
   "outputs": [],
   "source": [
    "def getclustercenters (clusteringdata,numberclusters,method):\n",
    "    if method == \"Kmeans\":\n",
    "        clustercenters = firststepclustering (clusteringdata,numberclusters,\"Kmeans\").cluster_centers_\n",
    "    elif method == \"Gaussian\":\n",
    "        clustercenters = firststepclustering (clusteringdata,numberclusters,\"Gaussian\").means_\n",
    "    return clustercenters"
   ]
  },
  {
   "cell_type": "code",
   "execution_count": 15,
   "metadata": {},
   "outputs": [],
   "source": [
    "#if clusteringdata.shape[1] > 256:\n",
    "#clusteringdata = clusteringdata.loc[:,:256]\n",
    "\n",
    "def visofclustercenters (clusteringdata,numberclusters,method):\n",
    "    fig, ax = plt.subplots(2, 5, figsize=(8, 3))\n",
    "    if clusteringdata.shape[1] > 256:\n",
    "        centersprep = getclustercenters(clusteringdata,numberclusters,method)\n",
    "        centers = centersprep[:,:256].reshape(10, 16, 16)  \n",
    "    elif clusteringdata.shape[1] == 16:\n",
    "        centers = getclustercenters(clusteringdata,numberclusters,method).reshape(10, 4, 4)\n",
    "    elif clusteringdata.shape[1] == 256:\n",
    "        centers = getclustercenters(clusteringdata,numberclusters,method).reshape(10, 16, 16)\n",
    "    elif clusteringdata.shape[1] == 64:\n",
    "        centers = getclustercenters(clusteringdata,numberclusters,method).reshape(10, 8, 8) \n",
    "    for axi, center in zip(ax.flat, centers):\n",
    "        axi.set(xticks=[], yticks=[])\n",
    "        axi.imshow(center, interpolation='nearest', cmap='hot')"
   ]
  },
  {
   "cell_type": "code",
   "execution_count": 16,
   "metadata": {},
   "outputs": [
    {
     "data": {
      "image/png": "[encoded data removed]",
      "text/plain": [
       "<Figure size 576x216 with 10 Axes>"
      ]
     },
     "metadata": {},
     "output_type": "display_data"
    }
   ],
   "source": [
    "visofclustercenters(matrixforclusteringnewpixelonly,10,\"Gaussian\")"
   ]
  },
  {
   "cell_type": "code",
   "execution_count": 17,
   "metadata": {},
   "outputs": [
    {
     "data": {
      "image/png": "[encoded data removed]",
      "text/plain": [
       "<Figure size 576x216 with 10 Axes>"
      ]
     },
     "metadata": {},
     "output_type": "display_data"
    }
   ],
   "source": [
    "visofclustercenters(matrixforclusteringadjustedgreyscale,10,\"Kmeans\")"
   ]
  },
  {
   "cell_type": "code",
   "execution_count": null,
   "metadata": {},
   "outputs": [],
   "source": [
    "visofclustercenters(datawithouttargets,10,\"Kmeans\")"
   ]
  },
  {
   "cell_type": "code",
   "execution_count": null,
   "metadata": {},
   "outputs": [],
   "source": [
    "def calculateaccuracy (clusteringdata,method,proofdata):\n",
    "    rangeinput=np.array([0,1,2,3,4,5,6,7,8,9])\n",
    "    clustersstep1 = getresultmatrixclustering (clusteringdata,method,proofdata)\n",
    "    clustersstep2 = clustersstep1['Kcluster']\n",
    "    targets= clustersstep1[0]\n",
    "    labels = np.zeros_like(clustersstep2)\n",
    "    for i in range(0, len(rangeinput)):\n",
    "        mask = (clustersstep2 == rangeinput[i])\n",
    "        labels[mask] = mode(targets[mask])[0]\n",
    "    return accuracy_score(targets, labels),pd.DataFrame([targets, clustersstep2,labels]),pd.DataFrame([targets]),pd.DataFrame([labels])"
   ]
  },
  {
   "cell_type": "code",
   "execution_count": null,
   "metadata": {},
   "outputs": [],
   "source": [
    "ACC,accmatrix,targets,labels= calculateaccuracy (matrixforclusteringnewpixelonly,\"Kmeans\",matrixtoproofnewpixelonly)"
   ]
  },
  {
   "cell_type": "code",
   "execution_count": null,
   "metadata": {},
   "outputs": [],
   "source": [
    "accmatrix.T"
   ]
  },
  {
   "cell_type": "code",
   "execution_count": null,
   "metadata": {},
   "outputs": [],
   "source": [
    "ACC"
   ]
  },
  {
   "cell_type": "code",
   "execution_count": null,
   "metadata": {},
   "outputs": [],
   "source": [
    "rangeinput=np.array([0, 1, 2, 3, 4, 5, 6, 7, 8, 9])\n",
    "from sklearn.metrics import confusion_matrix\n",
    "mat = confusion_matrix(np.array(targets.T), np.array(labels.T))\n",
    "sns.heatmap(mat.T, square=True, annot=True, fmt='d', cbar=False,\n",
    "            xticklabels=rangeinput,\n",
    "            yticklabels=rangeinput)\n",
    "plt.xlabel('true label')\n",
    "plt.ylabel('predicted label');\n"
   ]
  },
  {
   "cell_type": "markdown",
   "metadata": {},
   "source": [
    "## Ergebnisse: nur Parameter der Nachbarschaft"
   ]
  },
  {
   "cell_type": "markdown",
   "metadata": {},
   "source": [
    "### K-Means"
   ]
  },
  {
   "cell_type": "code",
   "execution_count": null,
   "metadata": {},
   "outputs": [],
   "source": [
    "plottables('Kmeans',matrixforclusteringnewpixelonly,matrixtoproofnewpixelonly)\n",
    "plt.show()"
   ]
  },
  {
   "cell_type": "markdown",
   "metadata": {},
   "source": [
    "### Gaussian"
   ]
  },
  {
   "cell_type": "code",
   "execution_count": null,
   "metadata": {},
   "outputs": [],
   "source": [
    "plottables('Gaussian',matrixforclusteringnewpixelonly,matrixtoproofnewpixelonly)\n",
    "plt.show()"
   ]
  },
  {
   "cell_type": "markdown",
   "metadata": {},
   "source": [
    "## Ergebnisse: alte und neue Parameter der Nachbarschaft"
   ]
  },
  {
   "cell_type": "markdown",
   "metadata": {},
   "source": [
    "### K-Means"
   ]
  },
  {
   "cell_type": "code",
   "execution_count": null,
   "metadata": {},
   "outputs": [],
   "source": [
    "plottables('Kmeans',matrixforclusteringnewpixel,matrixtoproofnewpixel)\n",
    "plt.show()"
   ]
  },
  {
   "cell_type": "markdown",
   "metadata": {},
   "source": [
    "## Gaussian"
   ]
  },
  {
   "cell_type": "code",
   "execution_count": null,
   "metadata": {},
   "outputs": [],
   "source": [
    "plottables('Gaussian',matrixforclusteringnewpixel,matrixtoproofnewpixel)\n",
    "plt.show()"
   ]
  },
  {
   "cell_type": "code",
   "execution_count": null,
   "metadata": {},
   "outputs": [],
   "source": []
  }
 ],
 "metadata": {
  "kernelspec": {
   "display_name": "Python 3",
   "language": "python",
   "name": "python3"
  },
  "language_info": {
   "codemirror_mode": {
    "name": "ipython",
    "version": 3
   },
   "file_extension": ".py",
   "mimetype": "text/x-python",
   "name": "python",
   "nbconvert_exporter": "python",
   "pygments_lexer": "ipython3",
   "version": "3.6.5"
  }
 },
 "nbformat": 4,
 "nbformat_minor": 2
}
